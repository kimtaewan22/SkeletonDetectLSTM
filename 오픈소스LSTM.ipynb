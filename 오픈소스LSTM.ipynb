{
  "nbformat": 4,
  "nbformat_minor": 0,
  "metadata": {
    "colab": {
      "provenance": [],
      "authorship_tag": "ABX9TyPkn59av7mwTIs8uzq28o8j",
      "include_colab_link": true
    },
    "kernelspec": {
      "name": "python3",
      "display_name": "Python 3"
    },
    "language_info": {
      "name": "python"
    }
  },
  "cells": [
    {
      "cell_type": "markdown",
      "metadata": {
        "id": "view-in-github",
        "colab_type": "text"
      },
      "source": [
        "<a href=\"https://colab.research.google.com/github/kimtaewan22/SkeletonDetectLSTM/blob/main/%EC%98%A4%ED%94%88%EC%86%8C%EC%8A%A4LSTM.ipynb\" target=\"_parent\"><img src=\"https://colab.research.google.com/assets/colab-badge.svg\" alt=\"Open In Colab\"/></a>"
      ]
    },
    {
      "cell_type": "code",
      "execution_count": null,
      "metadata": {
        "colab": {
          "base_uri": "https://localhost:8080/"
        },
        "id": "O8QcyFYaWx8f",
        "outputId": "4b74e58a-de0e-4e81-9805-53df8254b26f"
      },
      "outputs": [
        {
          "output_type": "stream",
          "name": "stdout",
          "text": [
            "   Frame  11_13_15  12_14_16  11_23_25  12_24_26  23_25_27  24_26_28  \\\n",
            "0      1        28        24       123       122       118       110   \n",
            "1      2        26        26       129       118       118       109   \n",
            "2      3        27        29       130       115       117       105   \n",
            "3      4        28        29       127       110       111        98   \n",
            "4      5        23        26       113       106        94        83   \n",
            "\n",
            "   14_12_24  13_11_23  14_12_11  13_11_12  32_28_26  31_27_25  26_24_23  \\\n",
            "0        53        46       142       119       121       135       146   \n",
            "1        53        48       136       127       124       132       147   \n",
            "2        50        49       133       127       122       130       149   \n",
            "3        52        47       137       122       119       127       152   \n",
            "4        54        55       133       134       113       119       161   \n",
            "\n",
            "   25_23_24  \n",
            "0       131  \n",
            "1       127  \n",
            "2       126  \n",
            "3       130  \n",
            "4       139  \n"
          ]
        }
      ],
      "source": [
        "import pandas as pd\n",
        "\n",
        "df = pd.read_excel(\"squat1.xlsx\")\n",
        "\n",
        "print(df.head())"
      ]
    },
    {
      "cell_type": "code",
      "source": [
        "print(df.describe())"
      ],
      "metadata": {
        "colab": {
          "base_uri": "https://localhost:8080/"
        },
        "id": "qngb9qnhXMbq",
        "outputId": "db2a4855-0052-4594-db8c-ca2d69c57218"
      },
      "execution_count": null,
      "outputs": [
        {
          "output_type": "stream",
          "name": "stdout",
          "text": [
            "            Frame    11_13_15    12_14_16    11_23_25    12_24_26    23_25_27  \\\n",
            "count  523.000000  523.000000  523.000000  523.000000  523.000000  523.000000   \n",
            "mean   262.000000   25.286807   22.759082  130.835564  124.015296  122.185468   \n",
            "std    151.121364    6.877831    7.432666   13.876153   21.204436   42.108849   \n",
            "min      1.000000   12.000000    9.000000   96.000000   75.000000   35.000000   \n",
            "25%    131.500000   19.000000   15.000000  120.000000  107.000000   78.000000   \n",
            "50%    262.000000   24.000000   22.000000  137.000000  129.000000  147.000000   \n",
            "75%    392.500000   31.000000   29.000000  142.000000  143.000000  160.000000   \n",
            "max    523.000000   44.000000   40.000000  151.000000  153.000000  174.000000   \n",
            "\n",
            "         24_26_28    14_12_24    13_11_23    14_12_11    13_11_12    32_28_26  \\\n",
            "count  523.000000  523.000000  523.000000  523.000000  523.000000  523.000000   \n",
            "mean   120.185468   57.196941   52.881453  139.267686  132.110899  132.466539   \n",
            "std     42.330958    7.081993    5.939453    9.426924    6.973893   22.465988   \n",
            "min     32.000000   29.000000   29.000000  112.000000  109.000000   78.000000   \n",
            "25%     72.500000   54.000000   49.000000  133.000000  127.000000  110.000000   \n",
            "50%    139.000000   58.000000   54.000000  141.000000  133.000000  144.000000   \n",
            "75%    158.000000   62.000000   57.000000  146.000000  138.000000  152.000000   \n",
            "max    169.000000   73.000000   64.000000  158.000000  145.000000  162.000000   \n",
            "\n",
            "         31_27_25    26_24_23    25_23_24  \n",
            "count  523.000000  523.000000  523.000000  \n",
            "mean   131.919694  137.319312  128.854685  \n",
            "std     21.618099   18.746937   12.280483  \n",
            "min     63.000000  108.000000  107.000000  \n",
            "25%    113.000000  123.000000  119.000000  \n",
            "50%    144.000000  133.000000  126.000000  \n",
            "75%    149.000000  151.000000  138.500000  \n",
            "max    159.000000  180.000000  160.000000  \n"
          ]
        }
      ]
    },
    {
      "cell_type": "code",
      "source": [
        "print(df.info())"
      ],
      "metadata": {
        "id": "OSwkDSfzXXVG"
      },
      "execution_count": null,
      "outputs": []
    },
    {
      "cell_type": "code",
      "source": [
        "import pandas as pd\n",
        "\n",
        "\n",
        "# 프레임 범위와 열 지정\n",
        "frame_ranges = [(50, 70), (105, 125),(160, 180), (210, 230), (260, 280), (315,335),(365, 385), (415,435), (465,485)]  # 프레임 범위\n",
        "columns = ['11_23_25', '12_24_26', '24_26_28', '23_25_27']  # 열\n",
        "\n",
        "# 각 프레임 범위 내에서 열 값들의 평균 계산\n",
        "result = []\n",
        "for frame_range in frame_ranges:\n",
        "    start_frame, end_frame = frame_range\n",
        "    selected_rows = df[(df['Frame'] >= start_frame) & (df['Frame'] <= end_frame)]\n",
        "    mean_values = selected_rows[columns].mean()\n",
        "    result.append(mean_values)\n",
        "\n",
        "# 결과 출력\n",
        "for i, frame_range in enumerate(frame_ranges):\n",
        "    start_frame, end_frame = frame_range\n",
        "    print(f\"프레임 범위: {start_frame} ~ {end_frame}\")\n",
        "    print(result[i])\n",
        "    print()"
      ],
      "metadata": {
        "colab": {
          "base_uri": "https://localhost:8080/"
        },
        "id": "9_dszGZiZWRV",
        "outputId": "dbf5ffc0-9163-4207-f2ba-535b5e05d3ac"
      },
      "execution_count": null,
      "outputs": [
        {
          "output_type": "stream",
          "name": "stdout",
          "text": [
            "프레임 범위: 50 ~ 70\n",
            "11_23_25    115.047619\n",
            "12_24_26    100.523810\n",
            "24_26_28     68.142857\n",
            "23_25_27     76.000000\n",
            "dtype: float64\n",
            "\n",
            "프레임 범위: 105 ~ 125\n",
            "11_23_25    117.857143\n",
            "12_24_26    104.428571\n",
            "24_26_28     79.523810\n",
            "23_25_27     83.000000\n",
            "dtype: float64\n",
            "\n",
            "프레임 범위: 160 ~ 180\n",
            "11_23_25    119.095238\n",
            "12_24_26    102.619048\n",
            "24_26_28     79.523810\n",
            "23_25_27     78.285714\n",
            "dtype: float64\n",
            "\n",
            "프레임 범위: 210 ~ 230\n",
            "11_23_25    113.857143\n",
            "12_24_26    100.285714\n",
            "24_26_28     73.666667\n",
            "23_25_27     82.285714\n",
            "dtype: float64\n",
            "\n",
            "프레임 범위: 260 ~ 280\n",
            "11_23_25    115.571429\n",
            "12_24_26    103.523810\n",
            "24_26_28     73.904762\n",
            "23_25_27     66.809524\n",
            "dtype: float64\n",
            "\n",
            "프레임 범위: 315 ~ 335\n",
            "11_23_25    118.333333\n",
            "12_24_26    100.095238\n",
            "24_26_28     64.761905\n",
            "23_25_27     77.095238\n",
            "dtype: float64\n",
            "\n",
            "프레임 범위: 365 ~ 385\n",
            "11_23_25    116.190476\n",
            "12_24_26    101.857143\n",
            "24_26_28     71.333333\n",
            "23_25_27     75.523810\n",
            "dtype: float64\n",
            "\n",
            "프레임 범위: 415 ~ 435\n",
            "11_23_25    115.571429\n",
            "12_24_26     99.666667\n",
            "24_26_28     68.619048\n",
            "23_25_27     70.857143\n",
            "dtype: float64\n",
            "\n",
            "프레임 범위: 465 ~ 485\n",
            "11_23_25    117.428571\n",
            "12_24_26    101.095238\n",
            "24_26_28     68.619048\n",
            "23_25_27     66.380952\n",
            "dtype: float64\n",
            "\n"
          ]
        }
      ]
    },
    {
      "cell_type": "markdown",
      "source": [
        "#Loss Function - MSE방식"
      ],
      "metadata": {
        "id": "tgZFl961ouhX"
      }
    },
    {
      "cell_type": "code",
      "source": [
        "import torch\n",
        "import torch.nn as nn\n",
        "import torch.optim as optim\n",
        "import numpy as np\n",
        "import pandas as pd\n",
        "\n",
        "selected_columns = ['11_23_25', '12_24_26', '24_26_28', '23_25_27']\n",
        "\n",
        "# 데이터 불러오기\n",
        "data = pd.read_excel(\"squat1.xlsx\")\n",
        "\n",
        "# 데이터 정규화 함수\n",
        "def normalize_data(data):\n",
        "    return (data - np.mean(data)) / np.std(data)\n",
        "\n",
        "# 전체 데이터 정규화\n",
        "normalized_data = normalize_data(data[selected_columns].values)\n",
        "\n",
        "# 데이터를 시퀀스로 변환\n",
        "sequence_length = 10  # 시퀀스 길이 설정\n",
        "sequences = []\n",
        "targets = []\n",
        "\n",
        "for i in range(len(normalized_data) - sequence_length):\n",
        "    sequence = normalized_data[i:i+sequence_length]\n",
        "    target = normalized_data[i+sequence_length]\n",
        "    sequences.append(sequence)\n",
        "    targets.append(target)\n",
        "\n",
        "# 데이터를 PyTorch Tensor로 변환\n",
        "X_tensor = torch.tensor(sequences, dtype=torch.float32)\n",
        "y_tensor = torch.tensor(targets, dtype=torch.float32)\n",
        "\n",
        "# LSTM 모델 정의\n",
        "class LSTMModel(nn.Module):\n",
        "    def __init__(self, input_size, hidden_size, output_size, num_layers):\n",
        "        super(LSTMModel, self).__init__()\n",
        "        self.hidden_size = hidden_size\n",
        "        self.num_layers = num_layers\n",
        "        self.lstm = nn.LSTM(input_size, hidden_size, num_layers, batch_first=True)\n",
        "        self.fc = nn.Linear(hidden_size, output_size)\n",
        "        self.relu = nn.ReLU()\n",
        "\n",
        "    def forward(self, x):\n",
        "        h0 = torch.zeros(self.num_layers, x.size(0), self.hidden_size).to(x.device)\n",
        "        c0 = torch.zeros(self.num_layers, x.size(0), self.hidden_size).to(x.device)\n",
        "\n",
        "        out, _ = self.lstm(x, (h0, c0))\n",
        "        out = self.fc(out[:, -1, :])\n",
        "        out = self.relu(out)\n",
        "        return out\n",
        "\n",
        "# 모델 파라미터 설정\n",
        "input_size = X_tensor.shape[2]\n",
        "hidden_size = 128\n",
        "output_size = X_tensor.shape[2]\n",
        "num_layers = 2\n",
        "\n",
        "# 모델 초기화\n",
        "model = LSTMModel(input_size, hidden_size, output_size, num_layers)\n",
        "\n",
        "# 손실 함수 및 최적화 알고리즘 설정\n",
        "criterion = nn.MSELoss()\n",
        "optimizer = optim.Adam(model.parameters(), lr=0.001)\n",
        "\n",
        "# 학습\n",
        "num_epochs = 100\n",
        "batch_size = 32\n",
        "\n",
        "for epoch in range(num_epochs):\n",
        "    permutation = torch.randperm(X_tensor.size(0))\n",
        "    for i in range(0, X_tensor.size(0), batch_size):\n",
        "        indices = permutation[i:i+batch_size]\n",
        "        batch_X = X_tensor[indices]\n",
        "        batch_y = y_tensor[indices]\n",
        "        optimizer.zero_grad()\n",
        "        outputs = model(batch_X)\n",
        "        loss = criterion(outputs, batch_y)\n",
        "        loss.backward()\n",
        "        optimizer.step()\n",
        "    if (epoch+1) % 10 == 0:\n",
        "        print(f'Epoch: {epoch+1}/{num_epochs}, Loss: {loss.item()}')\n",
        "\n",
        "# 예측\n",
        "test_sequence = normalized_data[-sequence_length:]  # 마지막 시퀀스 추출\n",
        "test_input = torch.tensor(test_sequence, dtype=torch.float32).unsqueeze(0)\n",
        "predicted_output = model(test_input)\n",
        "\n",
        "# 예측 결과 디노멜라이즈\n",
        "predicted_output_denorm = predicted_output.squeeze().detach().numpy() * np.std(data[selected_columns].values) + np.mean(data[selected_columns].values)\n",
        "\n",
        "# 예측 결과 출력\n",
        "print(\"예측 결과:\")\n",
        "print(predicted_output_denorm)\n"
      ],
      "metadata": {
        "colab": {
          "base_uri": "https://localhost:8080/"
        },
        "id": "1EFHbdKFd3ot",
        "outputId": "a2971339-aa51-428b-fcce-6859fa846c81"
      },
      "execution_count": null,
      "outputs": [
        {
          "output_type": "stream",
          "name": "stdout",
          "text": [
            "Epoch: 10/100, Loss: 0.01126687228679657\n",
            "Epoch: 20/100, Loss: 0.012224841862916946\n",
            "Epoch: 30/100, Loss: 0.006596724037081003\n",
            "Epoch: 40/100, Loss: 0.005257095210254192\n",
            "Epoch: 50/100, Loss: 0.009997071698307991\n",
            "Epoch: 60/100, Loss: 0.011506931856274605\n",
            "Epoch: 70/100, Loss: 0.0099712572991848\n",
            "Epoch: 80/100, Loss: 0.0011757557513192296\n",
            "Epoch: 90/100, Loss: 0.010809794999659061\n",
            "Epoch: 100/100, Loss: 0.0063133444637060165\n",
            "예측 결과:\n",
            "[142.34468 144.98401 161.67628 159.8289 ]\n"
          ]
        }
      ]
    },
    {
      "cell_type": "code",
      "source": [
        "from sklearn.metrics import mean_squared_error\n",
        "\n",
        "# 실제값\n",
        "actual_value_last = actual_values[-1]\n",
        "\n",
        "next_actual_data = data.loc[-1:-1, selected_columns],\n",
        "\n",
        "# 예측값 디노멜라이즈\n",
        "predicted_output_denorm = predicted_output.squeeze().detach().numpy() * np.std(data[selected_columns].values) + np.mean(data[selected_columns].values)\n",
        "\n",
        "print(\"예측값\",predicted_output_denorm)\n",
        "print(\"실측값\", actual_value_last)\n",
        "\n",
        "# RMSE 계산\n",
        "rmse = np.sqrt(mean_squared_error([actual_value_last], [predicted_output_denorm]))\n",
        "\n",
        "print(\"RMSE:\", rmse)"
      ],
      "metadata": {
        "colab": {
          "base_uri": "https://localhost:8080/"
        },
        "id": "2LNM35lpefbf",
        "outputId": "0bac11a3-bfe9-428b-a955-2e398d4d1005"
      },
      "execution_count": null,
      "outputs": [
        {
          "output_type": "stream",
          "name": "stdout",
          "text": [
            "예측값 [142.34468 144.98401 161.67628 159.8289 ]\n",
            "실측값 [143 147 161 159]\n",
            "RMSE: 1.1872347560544905\n"
          ]
        }
      ]
    },
    {
      "cell_type": "code",
      "source": [
        "from sklearn.metrics import r2_score\n",
        "\n",
        "# R^2 계산\n",
        "r2 = r2_score(actual_value_last, predicted_output_denorm)\n",
        "\n",
        "print(\"R^2:\", r2)"
      ],
      "metadata": {
        "colab": {
          "base_uri": "https://localhost:8080/"
        },
        "id": "EFrzkyPWv5qY",
        "outputId": "4286f26b-ccf9-46b5-8662-8ca977f13b83"
      },
      "execution_count": null,
      "outputs": [
        {
          "output_type": "stream",
          "name": "stdout",
          "text": [
            "R^2: 0.9601286818580503\n"
          ]
        }
      ]
    },
    {
      "cell_type": "markdown",
      "source": [
        "# Loss Function - Huber Loss 방식\n"
      ],
      "metadata": {
        "id": "bdvkbO-OozWI"
      }
    },
    {
      "cell_type": "code",
      "source": [
        "import torch\n",
        "import torch.nn as nn\n",
        "import torch.optim as optim\n",
        "import numpy as np\n",
        "import pandas as pd\n",
        "\n",
        "selected_columns = ['11_23_25', '12_24_26', '24_26_28', '23_25_27']\n",
        "\n",
        "# 데이터 불러오기\n",
        "data = pd.read_excel(\"squat1.xlsx\")\n",
        "\n",
        "# 데이터 정규화 함수\n",
        "def normalize_data(data):\n",
        "    return (data - np.mean(data)) / np.std(data)\n",
        "\n",
        "# 전체 데이터 정규화\n",
        "normalized_data = normalize_data(data[selected_columns].values)\n",
        "\n",
        "# 데이터를 시퀀스로 변환\n",
        "sequence_length = 10  # 시퀀스 길이 설정\n",
        "sequences = []\n",
        "targets = []\n",
        "\n",
        "for i in range(len(normalized_data) - sequence_length):\n",
        "    sequence = normalized_data[i:i+sequence_length]\n",
        "    target = normalized_data[i+sequence_length]\n",
        "    sequences.append(sequence)\n",
        "    targets.append(target)\n",
        "\n",
        "# 데이터를 PyTorch Tensor로 변환\n",
        "X_tensor = torch.tensor(sequences, dtype=torch.float32)\n",
        "y_tensor = torch.tensor(targets, dtype=torch.float32)\n",
        "\n",
        "# LSTM 모델 정의\n",
        "class LSTMModel(nn.Module):\n",
        "    def __init__(self, input_size, hidden_size, output_size, num_layers):\n",
        "        super(LSTMModel, self).__init__()\n",
        "        self.hidden_size = hidden_size\n",
        "        self.num_layers = num_layers\n",
        "        self.lstm = nn.LSTM(input_size, hidden_size, num_layers, batch_first=True)\n",
        "        self.fc = nn.Linear(hidden_size, output_size)\n",
        "        self.relu = nn.ReLU()\n",
        "\n",
        "    def forward(self, x):\n",
        "        h0 = torch.zeros(self.num_layers, x.size(0), self.hidden_size).to(x.device)\n",
        "        c0 = torch.zeros(self.num_layers, x.size(0), self.hidden_size).to(x.device)\n",
        "\n",
        "        out, _ = self.lstm(x, (h0, c0))\n",
        "        out = self.fc(out[:, -1, :])\n",
        "        out = self.relu(out)\n",
        "        return out\n",
        "\n",
        "# 모델 파라미터 설정\n",
        "input_size = X_tensor.shape[2]\n",
        "hidden_size = 128\n",
        "output_size = X_tensor.shape[2]\n",
        "num_layers = 2\n",
        "\n",
        "# 모델 초기화\n",
        "model = LSTMModel(input_size, hidden_size, output_size, num_layers)\n",
        "\n",
        "# 손실 함수 및 최적화 알고리즘 설정\n",
        "criterion = nn.SmoothL1Loss()  # Huber Loss\n",
        "optimizer = optim.Adam(model.parameters(), lr=0.001)\n",
        "\n",
        "# 학습\n",
        "num_epochs = 100\n",
        "batch_size = 32\n",
        "\n",
        "for epoch in range(num_epochs):\n",
        "    permutation = torch.randperm(X_tensor.size(0))\n",
        "    for i in range(0, X_tensor.size(0), batch_size):\n",
        "        indices = permutation[i:i+batch_size]\n",
        "        batch_X = X_tensor[indices]\n",
        "        batch_y = y_tensor[indices]\n",
        "        optimizer.zero_grad()\n",
        "        outputs = model(batch_X)\n",
        "        loss = criterion(outputs, batch_y)\n",
        "        loss.backward()\n",
        "        optimizer.step()\n",
        "    if (epoch+1) % 10 == 0:\n",
        "        print(f'Epoch: {epoch+1}/{num_epochs}, Loss: {loss.item()}')\n",
        "\n",
        "# 예측\n",
        "test_sequence = normalized_data[-sequence_length:]  # 마지막 시퀀스 추출\n",
        "test_input = torch.tensor(test_sequence, dtype=torch.float32).unsqueeze(0)\n",
        "predicted_output = model(test_input)\n",
        "\n",
        "# 예측 결과 디노멜라이즈\n",
        "predicted_output_denorm = predicted_output.squeeze().detach().numpy() * np.std(data[selected_columns].values) + np.mean(data[selected_columns].values)\n",
        "\n",
        "# 예측 결과 출력\n",
        "print(\"예측 결과:\")\n",
        "print(predicted_output_denorm)\n"
      ],
      "metadata": {
        "colab": {
          "base_uri": "https://localhost:8080/"
        },
        "id": "XgLiDDkcoy2D",
        "outputId": "5deb3876-d72e-42da-fd0e-9dc3e888b7dc"
      },
      "execution_count": null,
      "outputs": [
        {
          "output_type": "stream",
          "name": "stdout",
          "text": [
            "Epoch: 10/100, Loss: 0.754517674446106\n",
            "Epoch: 20/100, Loss: 0.07914291322231293\n",
            "Epoch: 30/100, Loss: 0.009988589212298393\n",
            "Epoch: 40/100, Loss: 0.4441593289375305\n",
            "Epoch: 50/100, Loss: 0.9571226835250854\n",
            "Epoch: 60/100, Loss: 0.013068306259810925\n",
            "Epoch: 70/100, Loss: 0.040757790207862854\n",
            "Epoch: 80/100, Loss: 0.839005708694458\n",
            "Epoch: 90/100, Loss: 0.0024806614965200424\n",
            "Epoch: 100/100, Loss: 0.3039771318435669\n",
            "예측 결과:\n",
            "[142.79924 145.35071 160.87032 161.56758]\n"
          ]
        }
      ]
    },
    {
      "cell_type": "code",
      "source": [
        "from sklearn.metrics import mean_squared_error\n",
        "\n",
        "# 실제값\n",
        "actual_value_last = actual_values[-1]\n",
        "\n",
        "next_actual_data = data.loc[-1:-1, selected_columns],\n",
        "\n",
        "# 예측값 디노멜라이즈\n",
        "predicted_output_denorm = predicted_output.squeeze().detach().numpy() * np.std(data[selected_columns].values) + np.mean(data[selected_columns].values)\n",
        "\n",
        "print(\"예측값\",predicted_output_denorm)\n",
        "print(\"실측값\", actual_value_last)\n",
        "\n",
        "# RMSE 계산\n",
        "rmse = np.sqrt(mean_squared_error([actual_value_last], [predicted_output_denorm]))\n",
        "\n",
        "print(\"RMSE:\", rmse)"
      ],
      "metadata": {
        "colab": {
          "base_uri": "https://localhost:8080/"
        },
        "id": "1OzGptqepPZf",
        "outputId": "23d0f580-a587-4738-cb16-0aac2d7b52df"
      },
      "execution_count": null,
      "outputs": [
        {
          "output_type": "stream",
          "name": "stdout",
          "text": [
            "예측값 [142.79924 145.35071 160.87032 161.56758]\n",
            "실측값 [143 147 161 159]\n",
            "RMSE: 1.5305031659031418\n"
          ]
        }
      ]
    }
  ]
}